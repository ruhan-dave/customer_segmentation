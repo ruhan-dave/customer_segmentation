{
 "cells": [
  {
   "cell_type": "code",
   "execution_count": 1,
   "id": "adeee0dc",
   "metadata": {},
   "outputs": [],
   "source": [
    "import pandas as pd\n",
    "import numpy as np\n",
    "import matplotlib.pyplot as plt\n",
    "import seaborn as sns\n",
    "import sea\n",
    "from kneed import KneeLocator\n",
    "from sklearn.datasets import make_blobs\n",
    "from sklearn.cluster import KMeans\n",
    "from sklearn.metrics import silhouette_score\n",
    "from sklearn.preprocessing import StandardScaler\n",
    "from sklearn.decomposition import PCA\n",
    "from mpl_toolkits.mplot3d import Axes3D"
   ]
  },
  {
   "cell_type": "markdown",
   "id": "5e1373d1",
   "metadata": {},
   "source": [
    "Data is obtained from the following site:\n",
    "https://www.kaggle.com/kaushiksuresh147/customer-segmentation"
   ]
  },
  {
   "cell_type": "markdown",
   "id": "86b336f3",
   "metadata": {},
   "source": [
    "### Read Data and Make Sense of It"
   ]
  },
  {
   "cell_type": "code",
   "execution_count": 2,
   "id": "4985f593",
   "metadata": {},
   "outputs": [],
   "source": [
    "auto1 = pd.read_csv(\"/Users/owner/Desktop/DS_AI_projects/Customer segmentation project/Train.csv\")"
   ]
  },
  {
   "cell_type": "code",
   "execution_count": 3,
   "id": "c9866da2",
   "metadata": {},
   "outputs": [],
   "source": [
    "auto2 = pd.read_csv(\"/Users/owner/Desktop/DS_AI_projects/Customer segmentation project/Test.csv\")"
   ]
  },
  {
   "cell_type": "code",
   "execution_count": 4,
   "id": "01480863",
   "metadata": {},
   "outputs": [
    {
     "data": {
      "text/html": [
       "<div>\n",
       "<style scoped>\n",
       "    .dataframe tbody tr th:only-of-type {\n",
       "        vertical-align: middle;\n",
       "    }\n",
       "\n",
       "    .dataframe tbody tr th {\n",
       "        vertical-align: top;\n",
       "    }\n",
       "\n",
       "    .dataframe thead th {\n",
       "        text-align: right;\n",
       "    }\n",
       "</style>\n",
       "<table border=\"1\" class=\"dataframe\">\n",
       "  <thead>\n",
       "    <tr style=\"text-align: right;\">\n",
       "      <th></th>\n",
       "      <th>ID</th>\n",
       "      <th>Gender</th>\n",
       "      <th>Ever_Married</th>\n",
       "      <th>Age</th>\n",
       "      <th>Graduated</th>\n",
       "      <th>Profession</th>\n",
       "      <th>Work_Experience</th>\n",
       "      <th>Spending_Score</th>\n",
       "      <th>Family_Size</th>\n",
       "      <th>Var_1</th>\n",
       "      <th>Segmentation</th>\n",
       "    </tr>\n",
       "  </thead>\n",
       "  <tbody>\n",
       "    <tr>\n",
       "      <th>0</th>\n",
       "      <td>462809</td>\n",
       "      <td>Male</td>\n",
       "      <td>No</td>\n",
       "      <td>22</td>\n",
       "      <td>No</td>\n",
       "      <td>Healthcare</td>\n",
       "      <td>1.0</td>\n",
       "      <td>Low</td>\n",
       "      <td>4.0</td>\n",
       "      <td>Cat_4</td>\n",
       "      <td>D</td>\n",
       "    </tr>\n",
       "    <tr>\n",
       "      <th>1</th>\n",
       "      <td>462643</td>\n",
       "      <td>Female</td>\n",
       "      <td>Yes</td>\n",
       "      <td>38</td>\n",
       "      <td>Yes</td>\n",
       "      <td>Engineer</td>\n",
       "      <td>NaN</td>\n",
       "      <td>Average</td>\n",
       "      <td>3.0</td>\n",
       "      <td>Cat_4</td>\n",
       "      <td>A</td>\n",
       "    </tr>\n",
       "    <tr>\n",
       "      <th>2</th>\n",
       "      <td>466315</td>\n",
       "      <td>Female</td>\n",
       "      <td>Yes</td>\n",
       "      <td>67</td>\n",
       "      <td>Yes</td>\n",
       "      <td>Engineer</td>\n",
       "      <td>1.0</td>\n",
       "      <td>Low</td>\n",
       "      <td>1.0</td>\n",
       "      <td>Cat_6</td>\n",
       "      <td>B</td>\n",
       "    </tr>\n",
       "    <tr>\n",
       "      <th>3</th>\n",
       "      <td>461735</td>\n",
       "      <td>Male</td>\n",
       "      <td>Yes</td>\n",
       "      <td>67</td>\n",
       "      <td>Yes</td>\n",
       "      <td>Lawyer</td>\n",
       "      <td>0.0</td>\n",
       "      <td>High</td>\n",
       "      <td>2.0</td>\n",
       "      <td>Cat_6</td>\n",
       "      <td>B</td>\n",
       "    </tr>\n",
       "    <tr>\n",
       "      <th>4</th>\n",
       "      <td>462669</td>\n",
       "      <td>Female</td>\n",
       "      <td>Yes</td>\n",
       "      <td>40</td>\n",
       "      <td>Yes</td>\n",
       "      <td>Entertainment</td>\n",
       "      <td>NaN</td>\n",
       "      <td>High</td>\n",
       "      <td>6.0</td>\n",
       "      <td>Cat_6</td>\n",
       "      <td>A</td>\n",
       "    </tr>\n",
       "  </tbody>\n",
       "</table>\n",
       "</div>"
      ],
      "text/plain": [
       "       ID  Gender Ever_Married  Age Graduated     Profession  Work_Experience  \\\n",
       "0  462809    Male           No   22        No     Healthcare              1.0   \n",
       "1  462643  Female          Yes   38       Yes       Engineer              NaN   \n",
       "2  466315  Female          Yes   67       Yes       Engineer              1.0   \n",
       "3  461735    Male          Yes   67       Yes         Lawyer              0.0   \n",
       "4  462669  Female          Yes   40       Yes  Entertainment              NaN   \n",
       "\n",
       "  Spending_Score  Family_Size  Var_1 Segmentation  \n",
       "0            Low          4.0  Cat_4            D  \n",
       "1        Average          3.0  Cat_4            A  \n",
       "2            Low          1.0  Cat_6            B  \n",
       "3           High          2.0  Cat_6            B  \n",
       "4           High          6.0  Cat_6            A  "
      ]
     },
     "execution_count": 4,
     "metadata": {},
     "output_type": "execute_result"
    }
   ],
   "source": [
    "automobile = pd.concat([auto1, auto2])\n",
    "automobile.head()"
   ]
  },
  {
   "cell_type": "code",
   "execution_count": 5,
   "id": "51a19bb3",
   "metadata": {},
   "outputs": [
    {
     "data": {
      "text/html": [
       "<div>\n",
       "<style scoped>\n",
       "    .dataframe tbody tr th:only-of-type {\n",
       "        vertical-align: middle;\n",
       "    }\n",
       "\n",
       "    .dataframe tbody tr th {\n",
       "        vertical-align: top;\n",
       "    }\n",
       "\n",
       "    .dataframe thead th {\n",
       "        text-align: right;\n",
       "    }\n",
       "</style>\n",
       "<table border=\"1\" class=\"dataframe\">\n",
       "  <thead>\n",
       "    <tr style=\"text-align: right;\">\n",
       "      <th></th>\n",
       "      <th>ID</th>\n",
       "      <th>Age</th>\n",
       "      <th>Work_Experience</th>\n",
       "      <th>Family_Size</th>\n",
       "    </tr>\n",
       "  </thead>\n",
       "  <tbody>\n",
       "    <tr>\n",
       "      <th>count</th>\n",
       "      <td>10695.000000</td>\n",
       "      <td>10695.000000</td>\n",
       "      <td>9597.000000</td>\n",
       "      <td>10247.000000</td>\n",
       "    </tr>\n",
       "    <tr>\n",
       "      <th>mean</th>\n",
       "      <td>463468.088640</td>\n",
       "      <td>43.511828</td>\n",
       "      <td>2.619777</td>\n",
       "      <td>2.844052</td>\n",
       "    </tr>\n",
       "    <tr>\n",
       "      <th>std</th>\n",
       "      <td>2600.966411</td>\n",
       "      <td>16.774158</td>\n",
       "      <td>3.390790</td>\n",
       "      <td>1.536427</td>\n",
       "    </tr>\n",
       "    <tr>\n",
       "      <th>min</th>\n",
       "      <td>458982.000000</td>\n",
       "      <td>18.000000</td>\n",
       "      <td>0.000000</td>\n",
       "      <td>1.000000</td>\n",
       "    </tr>\n",
       "    <tr>\n",
       "      <th>25%</th>\n",
       "      <td>461220.500000</td>\n",
       "      <td>30.000000</td>\n",
       "      <td>0.000000</td>\n",
       "      <td>2.000000</td>\n",
       "    </tr>\n",
       "    <tr>\n",
       "      <th>50%</th>\n",
       "      <td>463451.000000</td>\n",
       "      <td>41.000000</td>\n",
       "      <td>1.000000</td>\n",
       "      <td>3.000000</td>\n",
       "    </tr>\n",
       "    <tr>\n",
       "      <th>75%</th>\n",
       "      <td>465733.500000</td>\n",
       "      <td>53.000000</td>\n",
       "      <td>4.000000</td>\n",
       "      <td>4.000000</td>\n",
       "    </tr>\n",
       "    <tr>\n",
       "      <th>max</th>\n",
       "      <td>467974.000000</td>\n",
       "      <td>89.000000</td>\n",
       "      <td>14.000000</td>\n",
       "      <td>9.000000</td>\n",
       "    </tr>\n",
       "  </tbody>\n",
       "</table>\n",
       "</div>"
      ],
      "text/plain": [
       "                  ID           Age  Work_Experience   Family_Size\n",
       "count   10695.000000  10695.000000      9597.000000  10247.000000\n",
       "mean   463468.088640     43.511828         2.619777      2.844052\n",
       "std      2600.966411     16.774158         3.390790      1.536427\n",
       "min    458982.000000     18.000000         0.000000      1.000000\n",
       "25%    461220.500000     30.000000         0.000000      2.000000\n",
       "50%    463451.000000     41.000000         1.000000      3.000000\n",
       "75%    465733.500000     53.000000         4.000000      4.000000\n",
       "max    467974.000000     89.000000        14.000000      9.000000"
      ]
     },
     "execution_count": 5,
     "metadata": {},
     "output_type": "execute_result"
    }
   ],
   "source": [
    "automobile.describe()"
   ]
  },
  {
   "cell_type": "markdown",
   "id": "6423bdaf",
   "metadata": {},
   "source": [
    "### Imputation, Filling Missing Values, One Hot Encoding "
   ]
  },
  {
   "cell_type": "code",
   "execution_count": 6,
   "id": "aa14dfaf",
   "metadata": {
    "scrolled": true
   },
   "outputs": [],
   "source": [
    "automobile.columns = ['id', 'gender', 'married', 'age', 'graduated', 'profession',\n",
    "       'work_experience', 'spending_score', 'family_size', 'var_1',\n",
    "       'segmentation']"
   ]
  },
  {
   "cell_type": "code",
   "execution_count": 7,
   "id": "7e5f6f83",
   "metadata": {},
   "outputs": [
    {
     "data": {
      "text/html": [
       "<div>\n",
       "<style scoped>\n",
       "    .dataframe tbody tr th:only-of-type {\n",
       "        vertical-align: middle;\n",
       "    }\n",
       "\n",
       "    .dataframe tbody tr th {\n",
       "        vertical-align: top;\n",
       "    }\n",
       "\n",
       "    .dataframe thead th {\n",
       "        text-align: right;\n",
       "    }\n",
       "</style>\n",
       "<table border=\"1\" class=\"dataframe\">\n",
       "  <thead>\n",
       "    <tr style=\"text-align: right;\">\n",
       "      <th></th>\n",
       "      <th>gender</th>\n",
       "      <th>married</th>\n",
       "      <th>age</th>\n",
       "      <th>graduated</th>\n",
       "      <th>profession</th>\n",
       "      <th>work_experience</th>\n",
       "      <th>spending_score</th>\n",
       "      <th>family_size</th>\n",
       "      <th>var_1</th>\n",
       "    </tr>\n",
       "  </thead>\n",
       "  <tbody>\n",
       "    <tr>\n",
       "      <th>0</th>\n",
       "      <td>Male</td>\n",
       "      <td>No</td>\n",
       "      <td>22</td>\n",
       "      <td>No</td>\n",
       "      <td>Healthcare</td>\n",
       "      <td>1.0</td>\n",
       "      <td>Low</td>\n",
       "      <td>4.0</td>\n",
       "      <td>Cat_4</td>\n",
       "    </tr>\n",
       "    <tr>\n",
       "      <th>1</th>\n",
       "      <td>Female</td>\n",
       "      <td>Yes</td>\n",
       "      <td>38</td>\n",
       "      <td>Yes</td>\n",
       "      <td>Engineer</td>\n",
       "      <td>NaN</td>\n",
       "      <td>Average</td>\n",
       "      <td>3.0</td>\n",
       "      <td>Cat_4</td>\n",
       "    </tr>\n",
       "    <tr>\n",
       "      <th>2</th>\n",
       "      <td>Female</td>\n",
       "      <td>Yes</td>\n",
       "      <td>67</td>\n",
       "      <td>Yes</td>\n",
       "      <td>Engineer</td>\n",
       "      <td>1.0</td>\n",
       "      <td>Low</td>\n",
       "      <td>1.0</td>\n",
       "      <td>Cat_6</td>\n",
       "    </tr>\n",
       "    <tr>\n",
       "      <th>3</th>\n",
       "      <td>Male</td>\n",
       "      <td>Yes</td>\n",
       "      <td>67</td>\n",
       "      <td>Yes</td>\n",
       "      <td>Lawyer</td>\n",
       "      <td>0.0</td>\n",
       "      <td>High</td>\n",
       "      <td>2.0</td>\n",
       "      <td>Cat_6</td>\n",
       "    </tr>\n",
       "    <tr>\n",
       "      <th>4</th>\n",
       "      <td>Female</td>\n",
       "      <td>Yes</td>\n",
       "      <td>40</td>\n",
       "      <td>Yes</td>\n",
       "      <td>Entertainment</td>\n",
       "      <td>NaN</td>\n",
       "      <td>High</td>\n",
       "      <td>6.0</td>\n",
       "      <td>Cat_6</td>\n",
       "    </tr>\n",
       "  </tbody>\n",
       "</table>\n",
       "</div>"
      ],
      "text/plain": [
       "   gender married  age graduated     profession  work_experience  \\\n",
       "0    Male      No   22        No     Healthcare              1.0   \n",
       "1  Female     Yes   38       Yes       Engineer              NaN   \n",
       "2  Female     Yes   67       Yes       Engineer              1.0   \n",
       "3    Male     Yes   67       Yes         Lawyer              0.0   \n",
       "4  Female     Yes   40       Yes  Entertainment              NaN   \n",
       "\n",
       "  spending_score  family_size  var_1  \n",
       "0            Low          4.0  Cat_4  \n",
       "1        Average          3.0  Cat_4  \n",
       "2            Low          1.0  Cat_6  \n",
       "3           High          2.0  Cat_6  \n",
       "4           High          6.0  Cat_6  "
      ]
     },
     "execution_count": 7,
     "metadata": {},
     "output_type": "execute_result"
    }
   ],
   "source": [
    "automobile = automobile.drop(columns=[\"id\", \"segmentation\"])\n",
    "automobile.head()"
   ]
  },
  {
   "cell_type": "code",
   "execution_count": 8,
   "id": "ba7d6df2",
   "metadata": {},
   "outputs": [],
   "source": [
    "# treating numerical features of null values with mean values\n",
    "automobile.fillna(automobile[[\"age\", \"work_experience\", \"family_size\"]].mean(), inplace=True)"
   ]
  },
  {
   "cell_type": "code",
   "execution_count": 9,
   "id": "d12074b0",
   "metadata": {
    "scrolled": true
   },
   "outputs": [
    {
     "name": "stdout",
     "output_type": "stream",
     "text": [
      "Male      5841\n",
      "Female    4854\n",
      "Name: gender, dtype: int64\n",
      "Yes    6163\n",
      "No     4342\n",
      "Name: married, dtype: int64\n",
      "35    321\n",
      "42    320\n",
      "37    304\n",
      "43    301\n",
      "40    300\n",
      "     ... \n",
      "75     37\n",
      "78     36\n",
      "76     36\n",
      "80     33\n",
      "85     32\n",
      "Name: age, Length: 67, dtype: int64\n",
      "Yes    6570\n",
      "No     4023\n",
      "Name: graduated, dtype: int64\n",
      "Artist           3318\n",
      "Healthcare       1750\n",
      "Entertainment    1250\n",
      "Engineer          935\n",
      "Doctor            930\n",
      "Lawyer            844\n",
      "Executive         775\n",
      "Marketing         403\n",
      "Homemaker         328\n",
      "Name: profession, dtype: int64\n",
      "1.000000     3127\n",
      "0.000000     3087\n",
      "2.619777     1098\n",
      "9.000000      613\n",
      "8.000000      612\n",
      "2.000000      373\n",
      "4.000000      346\n",
      "3.000000      337\n",
      "5.000000      270\n",
      "6.000000      265\n",
      "7.000000      256\n",
      "14.000000      66\n",
      "10.000000      64\n",
      "11.000000      64\n",
      "12.000000      60\n",
      "13.000000      57\n",
      "Name: work_experience, dtype: int64\n",
      "Low        6494\n",
      "Average    2599\n",
      "High       1602\n",
      "Name: spending_score, dtype: int64\n",
      "2.000000    3158\n",
      "1.000000    1965\n",
      "3.000000    1952\n",
      "4.000000    1823\n",
      "5.000000     812\n",
      "2.844052     448\n",
      "6.000000     290\n",
      "7.000000     122\n",
      "8.000000      65\n",
      "9.000000      60\n",
      "Name: family_size, dtype: int64\n",
      "Cat_6    6910\n",
      "Cat_4    1475\n",
      "Cat_3    1089\n",
      "Cat_2     563\n",
      "Cat_7     269\n",
      "Cat_1     167\n",
      "Cat_5     114\n",
      "Name: var_1, dtype: int64\n"
     ]
    }
   ],
   "source": [
    "for c in automobile.columns:\n",
    "    a = automobile[c].value_counts()\n",
    "    print(a)"
   ]
  },
  {
   "cell_type": "code",
   "execution_count": 10,
   "id": "13f666c8",
   "metadata": {},
   "outputs": [
    {
     "data": {
      "text/plain": [
       "gender               0\n",
       "married            190\n",
       "age                  0\n",
       "graduated          102\n",
       "profession         162\n",
       "work_experience      0\n",
       "spending_score       0\n",
       "family_size          0\n",
       "var_1              108\n",
       "dtype: int64"
      ]
     },
     "execution_count": 10,
     "metadata": {},
     "output_type": "execute_result"
    }
   ],
   "source": [
    "automobile.isnull().sum()"
   ]
  },
  {
   "cell_type": "code",
   "execution_count": 11,
   "id": "9ab5936d",
   "metadata": {},
   "outputs": [],
   "source": [
    "# binary encoding for categorical features with only 2 possible values.\n",
    "\n",
    "# dict = {# some kind of dictionary with categorical keys mapping to numerical values}\n",
    "# df['feature'] = df['feature'].map(dict)"
   ]
  },
  {
   "cell_type": "code",
   "execution_count": 12,
   "id": "60dc41c8",
   "metadata": {},
   "outputs": [
    {
     "data": {
      "text/html": [
       "<div>\n",
       "<style scoped>\n",
       "    .dataframe tbody tr th:only-of-type {\n",
       "        vertical-align: middle;\n",
       "    }\n",
       "\n",
       "    .dataframe tbody tr th {\n",
       "        vertical-align: top;\n",
       "    }\n",
       "\n",
       "    .dataframe thead th {\n",
       "        text-align: right;\n",
       "    }\n",
       "</style>\n",
       "<table border=\"1\" class=\"dataframe\">\n",
       "  <thead>\n",
       "    <tr style=\"text-align: right;\">\n",
       "      <th></th>\n",
       "      <th>age</th>\n",
       "      <th>work_experience</th>\n",
       "      <th>spending_score</th>\n",
       "      <th>family_size</th>\n",
       "      <th>profession_Artist</th>\n",
       "      <th>profession_Doctor</th>\n",
       "      <th>profession_Engineer</th>\n",
       "      <th>profession_Entertainment</th>\n",
       "      <th>profession_Executive</th>\n",
       "      <th>profession_Healthcare</th>\n",
       "      <th>...</th>\n",
       "      <th>married_Yes</th>\n",
       "      <th>graduated_No</th>\n",
       "      <th>graduated_Yes</th>\n",
       "      <th>var_1_Cat_1</th>\n",
       "      <th>var_1_Cat_2</th>\n",
       "      <th>var_1_Cat_3</th>\n",
       "      <th>var_1_Cat_4</th>\n",
       "      <th>var_1_Cat_5</th>\n",
       "      <th>var_1_Cat_6</th>\n",
       "      <th>var_1_Cat_7</th>\n",
       "    </tr>\n",
       "  </thead>\n",
       "  <tbody>\n",
       "    <tr>\n",
       "      <th>0</th>\n",
       "      <td>22</td>\n",
       "      <td>1.000000</td>\n",
       "      <td>Low</td>\n",
       "      <td>4.0</td>\n",
       "      <td>0</td>\n",
       "      <td>0</td>\n",
       "      <td>0</td>\n",
       "      <td>0</td>\n",
       "      <td>0</td>\n",
       "      <td>1</td>\n",
       "      <td>...</td>\n",
       "      <td>0</td>\n",
       "      <td>1</td>\n",
       "      <td>0</td>\n",
       "      <td>0</td>\n",
       "      <td>0</td>\n",
       "      <td>0</td>\n",
       "      <td>1</td>\n",
       "      <td>0</td>\n",
       "      <td>0</td>\n",
       "      <td>0</td>\n",
       "    </tr>\n",
       "    <tr>\n",
       "      <th>1</th>\n",
       "      <td>38</td>\n",
       "      <td>2.619777</td>\n",
       "      <td>Average</td>\n",
       "      <td>3.0</td>\n",
       "      <td>0</td>\n",
       "      <td>0</td>\n",
       "      <td>1</td>\n",
       "      <td>0</td>\n",
       "      <td>0</td>\n",
       "      <td>0</td>\n",
       "      <td>...</td>\n",
       "      <td>1</td>\n",
       "      <td>0</td>\n",
       "      <td>1</td>\n",
       "      <td>0</td>\n",
       "      <td>0</td>\n",
       "      <td>0</td>\n",
       "      <td>1</td>\n",
       "      <td>0</td>\n",
       "      <td>0</td>\n",
       "      <td>0</td>\n",
       "    </tr>\n",
       "    <tr>\n",
       "      <th>2</th>\n",
       "      <td>67</td>\n",
       "      <td>1.000000</td>\n",
       "      <td>Low</td>\n",
       "      <td>1.0</td>\n",
       "      <td>0</td>\n",
       "      <td>0</td>\n",
       "      <td>1</td>\n",
       "      <td>0</td>\n",
       "      <td>0</td>\n",
       "      <td>0</td>\n",
       "      <td>...</td>\n",
       "      <td>1</td>\n",
       "      <td>0</td>\n",
       "      <td>1</td>\n",
       "      <td>0</td>\n",
       "      <td>0</td>\n",
       "      <td>0</td>\n",
       "      <td>0</td>\n",
       "      <td>0</td>\n",
       "      <td>1</td>\n",
       "      <td>0</td>\n",
       "    </tr>\n",
       "    <tr>\n",
       "      <th>3</th>\n",
       "      <td>67</td>\n",
       "      <td>0.000000</td>\n",
       "      <td>High</td>\n",
       "      <td>2.0</td>\n",
       "      <td>0</td>\n",
       "      <td>0</td>\n",
       "      <td>0</td>\n",
       "      <td>0</td>\n",
       "      <td>0</td>\n",
       "      <td>0</td>\n",
       "      <td>...</td>\n",
       "      <td>1</td>\n",
       "      <td>0</td>\n",
       "      <td>1</td>\n",
       "      <td>0</td>\n",
       "      <td>0</td>\n",
       "      <td>0</td>\n",
       "      <td>0</td>\n",
       "      <td>0</td>\n",
       "      <td>1</td>\n",
       "      <td>0</td>\n",
       "    </tr>\n",
       "    <tr>\n",
       "      <th>4</th>\n",
       "      <td>40</td>\n",
       "      <td>2.619777</td>\n",
       "      <td>High</td>\n",
       "      <td>6.0</td>\n",
       "      <td>0</td>\n",
       "      <td>0</td>\n",
       "      <td>0</td>\n",
       "      <td>1</td>\n",
       "      <td>0</td>\n",
       "      <td>0</td>\n",
       "      <td>...</td>\n",
       "      <td>1</td>\n",
       "      <td>0</td>\n",
       "      <td>1</td>\n",
       "      <td>0</td>\n",
       "      <td>0</td>\n",
       "      <td>0</td>\n",
       "      <td>0</td>\n",
       "      <td>0</td>\n",
       "      <td>1</td>\n",
       "      <td>0</td>\n",
       "    </tr>\n",
       "    <tr>\n",
       "      <th>5</th>\n",
       "      <td>56</td>\n",
       "      <td>0.000000</td>\n",
       "      <td>Average</td>\n",
       "      <td>2.0</td>\n",
       "      <td>1</td>\n",
       "      <td>0</td>\n",
       "      <td>0</td>\n",
       "      <td>0</td>\n",
       "      <td>0</td>\n",
       "      <td>0</td>\n",
       "      <td>...</td>\n",
       "      <td>1</td>\n",
       "      <td>1</td>\n",
       "      <td>0</td>\n",
       "      <td>0</td>\n",
       "      <td>0</td>\n",
       "      <td>0</td>\n",
       "      <td>0</td>\n",
       "      <td>0</td>\n",
       "      <td>1</td>\n",
       "      <td>0</td>\n",
       "    </tr>\n",
       "    <tr>\n",
       "      <th>6</th>\n",
       "      <td>32</td>\n",
       "      <td>1.000000</td>\n",
       "      <td>Low</td>\n",
       "      <td>3.0</td>\n",
       "      <td>0</td>\n",
       "      <td>0</td>\n",
       "      <td>0</td>\n",
       "      <td>0</td>\n",
       "      <td>0</td>\n",
       "      <td>1</td>\n",
       "      <td>...</td>\n",
       "      <td>0</td>\n",
       "      <td>0</td>\n",
       "      <td>1</td>\n",
       "      <td>0</td>\n",
       "      <td>0</td>\n",
       "      <td>0</td>\n",
       "      <td>0</td>\n",
       "      <td>0</td>\n",
       "      <td>1</td>\n",
       "      <td>0</td>\n",
       "    </tr>\n",
       "    <tr>\n",
       "      <th>7</th>\n",
       "      <td>33</td>\n",
       "      <td>1.000000</td>\n",
       "      <td>Low</td>\n",
       "      <td>3.0</td>\n",
       "      <td>0</td>\n",
       "      <td>0</td>\n",
       "      <td>0</td>\n",
       "      <td>0</td>\n",
       "      <td>0</td>\n",
       "      <td>1</td>\n",
       "      <td>...</td>\n",
       "      <td>0</td>\n",
       "      <td>0</td>\n",
       "      <td>1</td>\n",
       "      <td>0</td>\n",
       "      <td>0</td>\n",
       "      <td>0</td>\n",
       "      <td>0</td>\n",
       "      <td>0</td>\n",
       "      <td>1</td>\n",
       "      <td>0</td>\n",
       "    </tr>\n",
       "    <tr>\n",
       "      <th>8</th>\n",
       "      <td>61</td>\n",
       "      <td>0.000000</td>\n",
       "      <td>Low</td>\n",
       "      <td>3.0</td>\n",
       "      <td>0</td>\n",
       "      <td>0</td>\n",
       "      <td>1</td>\n",
       "      <td>0</td>\n",
       "      <td>0</td>\n",
       "      <td>0</td>\n",
       "      <td>...</td>\n",
       "      <td>1</td>\n",
       "      <td>0</td>\n",
       "      <td>1</td>\n",
       "      <td>0</td>\n",
       "      <td>0</td>\n",
       "      <td>0</td>\n",
       "      <td>0</td>\n",
       "      <td>0</td>\n",
       "      <td>0</td>\n",
       "      <td>1</td>\n",
       "    </tr>\n",
       "    <tr>\n",
       "      <th>9</th>\n",
       "      <td>55</td>\n",
       "      <td>1.000000</td>\n",
       "      <td>Average</td>\n",
       "      <td>4.0</td>\n",
       "      <td>1</td>\n",
       "      <td>0</td>\n",
       "      <td>0</td>\n",
       "      <td>0</td>\n",
       "      <td>0</td>\n",
       "      <td>0</td>\n",
       "      <td>...</td>\n",
       "      <td>1</td>\n",
       "      <td>0</td>\n",
       "      <td>1</td>\n",
       "      <td>0</td>\n",
       "      <td>0</td>\n",
       "      <td>0</td>\n",
       "      <td>0</td>\n",
       "      <td>0</td>\n",
       "      <td>1</td>\n",
       "      <td>0</td>\n",
       "    </tr>\n",
       "  </tbody>\n",
       "</table>\n",
       "<p>10 rows × 26 columns</p>\n",
       "</div>"
      ],
      "text/plain": [
       "   age  work_experience spending_score  family_size  profession_Artist  \\\n",
       "0   22         1.000000            Low          4.0                  0   \n",
       "1   38         2.619777        Average          3.0                  0   \n",
       "2   67         1.000000            Low          1.0                  0   \n",
       "3   67         0.000000           High          2.0                  0   \n",
       "4   40         2.619777           High          6.0                  0   \n",
       "5   56         0.000000        Average          2.0                  1   \n",
       "6   32         1.000000            Low          3.0                  0   \n",
       "7   33         1.000000            Low          3.0                  0   \n",
       "8   61         0.000000            Low          3.0                  0   \n",
       "9   55         1.000000        Average          4.0                  1   \n",
       "\n",
       "   profession_Doctor  profession_Engineer  profession_Entertainment  \\\n",
       "0                  0                    0                         0   \n",
       "1                  0                    1                         0   \n",
       "2                  0                    1                         0   \n",
       "3                  0                    0                         0   \n",
       "4                  0                    0                         1   \n",
       "5                  0                    0                         0   \n",
       "6                  0                    0                         0   \n",
       "7                  0                    0                         0   \n",
       "8                  0                    1                         0   \n",
       "9                  0                    0                         0   \n",
       "\n",
       "   profession_Executive  profession_Healthcare  ...  married_Yes  \\\n",
       "0                     0                      1  ...            0   \n",
       "1                     0                      0  ...            1   \n",
       "2                     0                      0  ...            1   \n",
       "3                     0                      0  ...            1   \n",
       "4                     0                      0  ...            1   \n",
       "5                     0                      0  ...            1   \n",
       "6                     0                      1  ...            0   \n",
       "7                     0                      1  ...            0   \n",
       "8                     0                      0  ...            1   \n",
       "9                     0                      0  ...            1   \n",
       "\n",
       "   graduated_No  graduated_Yes  var_1_Cat_1  var_1_Cat_2  var_1_Cat_3  \\\n",
       "0             1              0            0            0            0   \n",
       "1             0              1            0            0            0   \n",
       "2             0              1            0            0            0   \n",
       "3             0              1            0            0            0   \n",
       "4             0              1            0            0            0   \n",
       "5             1              0            0            0            0   \n",
       "6             0              1            0            0            0   \n",
       "7             0              1            0            0            0   \n",
       "8             0              1            0            0            0   \n",
       "9             0              1            0            0            0   \n",
       "\n",
       "   var_1_Cat_4  var_1_Cat_5  var_1_Cat_6  var_1_Cat_7  \n",
       "0            1            0            0            0  \n",
       "1            1            0            0            0  \n",
       "2            0            0            1            0  \n",
       "3            0            0            1            0  \n",
       "4            0            0            1            0  \n",
       "5            0            0            1            0  \n",
       "6            0            0            1            0  \n",
       "7            0            0            1            0  \n",
       "8            0            0            0            1  \n",
       "9            0            0            1            0  \n",
       "\n",
       "[10 rows x 26 columns]"
      ]
     },
     "execution_count": 12,
     "metadata": {},
     "output_type": "execute_result"
    }
   ],
   "source": [
    "# one-hot encoding for categorical features with 2 or more possible values.\n",
    "automobiles = pd.get_dummies(automobile, prefix = ['profession'], columns = ['profession'])\n",
    "automobiles = pd.get_dummies(automobiles, prefix = ['gender'], columns = ['gender'])\n",
    "automobiles = pd.get_dummies(automobiles, prefix = ['married'], columns = ['married'])\n",
    "automobiles = pd.get_dummies(automobiles, prefix = ['graduated'], columns = ['graduated'])\n",
    "automobiles = pd.get_dummies(automobiles, prefix = ['var_1'], columns = ['var_1'])\n",
    "automobiles.head(10)"
   ]
  },
  {
   "cell_type": "code",
   "execution_count": 13,
   "id": "6c0bedc9",
   "metadata": {},
   "outputs": [],
   "source": [
    "automobiles.drop(columns=[\"gender_Male\"], inplace=True)"
   ]
  },
  {
   "cell_type": "code",
   "execution_count": 14,
   "id": "2ebec3d5",
   "metadata": {},
   "outputs": [
    {
     "data": {
      "text/html": [
       "<div>\n",
       "<style scoped>\n",
       "    .dataframe tbody tr th:only-of-type {\n",
       "        vertical-align: middle;\n",
       "    }\n",
       "\n",
       "    .dataframe tbody tr th {\n",
       "        vertical-align: top;\n",
       "    }\n",
       "\n",
       "    .dataframe thead th {\n",
       "        text-align: right;\n",
       "    }\n",
       "</style>\n",
       "<table border=\"1\" class=\"dataframe\">\n",
       "  <thead>\n",
       "    <tr style=\"text-align: right;\">\n",
       "      <th></th>\n",
       "      <th>age</th>\n",
       "      <th>work_experience</th>\n",
       "      <th>spending_score</th>\n",
       "      <th>family_size</th>\n",
       "      <th>profession_Artist</th>\n",
       "      <th>profession_Doctor</th>\n",
       "      <th>profession_Engineer</th>\n",
       "      <th>profession_Entertainment</th>\n",
       "      <th>profession_Executive</th>\n",
       "      <th>profession_Healthcare</th>\n",
       "      <th>...</th>\n",
       "      <th>married_Yes</th>\n",
       "      <th>graduated_No</th>\n",
       "      <th>graduated_Yes</th>\n",
       "      <th>var_1_Cat_1</th>\n",
       "      <th>var_1_Cat_2</th>\n",
       "      <th>var_1_Cat_3</th>\n",
       "      <th>var_1_Cat_4</th>\n",
       "      <th>var_1_Cat_5</th>\n",
       "      <th>var_1_Cat_6</th>\n",
       "      <th>var_1_Cat_7</th>\n",
       "    </tr>\n",
       "  </thead>\n",
       "  <tbody>\n",
       "    <tr>\n",
       "      <th>0</th>\n",
       "      <td>22</td>\n",
       "      <td>1.000000</td>\n",
       "      <td>2</td>\n",
       "      <td>4.0</td>\n",
       "      <td>0</td>\n",
       "      <td>0</td>\n",
       "      <td>0</td>\n",
       "      <td>0</td>\n",
       "      <td>0</td>\n",
       "      <td>1</td>\n",
       "      <td>...</td>\n",
       "      <td>0</td>\n",
       "      <td>1</td>\n",
       "      <td>0</td>\n",
       "      <td>0</td>\n",
       "      <td>0</td>\n",
       "      <td>0</td>\n",
       "      <td>1</td>\n",
       "      <td>0</td>\n",
       "      <td>0</td>\n",
       "      <td>0</td>\n",
       "    </tr>\n",
       "    <tr>\n",
       "      <th>1</th>\n",
       "      <td>38</td>\n",
       "      <td>2.619777</td>\n",
       "      <td>0</td>\n",
       "      <td>3.0</td>\n",
       "      <td>0</td>\n",
       "      <td>0</td>\n",
       "      <td>1</td>\n",
       "      <td>0</td>\n",
       "      <td>0</td>\n",
       "      <td>0</td>\n",
       "      <td>...</td>\n",
       "      <td>1</td>\n",
       "      <td>0</td>\n",
       "      <td>1</td>\n",
       "      <td>0</td>\n",
       "      <td>0</td>\n",
       "      <td>0</td>\n",
       "      <td>1</td>\n",
       "      <td>0</td>\n",
       "      <td>0</td>\n",
       "      <td>0</td>\n",
       "    </tr>\n",
       "    <tr>\n",
       "      <th>2</th>\n",
       "      <td>67</td>\n",
       "      <td>1.000000</td>\n",
       "      <td>2</td>\n",
       "      <td>1.0</td>\n",
       "      <td>0</td>\n",
       "      <td>0</td>\n",
       "      <td>1</td>\n",
       "      <td>0</td>\n",
       "      <td>0</td>\n",
       "      <td>0</td>\n",
       "      <td>...</td>\n",
       "      <td>1</td>\n",
       "      <td>0</td>\n",
       "      <td>1</td>\n",
       "      <td>0</td>\n",
       "      <td>0</td>\n",
       "      <td>0</td>\n",
       "      <td>0</td>\n",
       "      <td>0</td>\n",
       "      <td>1</td>\n",
       "      <td>0</td>\n",
       "    </tr>\n",
       "    <tr>\n",
       "      <th>3</th>\n",
       "      <td>67</td>\n",
       "      <td>0.000000</td>\n",
       "      <td>1</td>\n",
       "      <td>2.0</td>\n",
       "      <td>0</td>\n",
       "      <td>0</td>\n",
       "      <td>0</td>\n",
       "      <td>0</td>\n",
       "      <td>0</td>\n",
       "      <td>0</td>\n",
       "      <td>...</td>\n",
       "      <td>1</td>\n",
       "      <td>0</td>\n",
       "      <td>1</td>\n",
       "      <td>0</td>\n",
       "      <td>0</td>\n",
       "      <td>0</td>\n",
       "      <td>0</td>\n",
       "      <td>0</td>\n",
       "      <td>1</td>\n",
       "      <td>0</td>\n",
       "    </tr>\n",
       "    <tr>\n",
       "      <th>4</th>\n",
       "      <td>40</td>\n",
       "      <td>2.619777</td>\n",
       "      <td>1</td>\n",
       "      <td>6.0</td>\n",
       "      <td>0</td>\n",
       "      <td>0</td>\n",
       "      <td>0</td>\n",
       "      <td>1</td>\n",
       "      <td>0</td>\n",
       "      <td>0</td>\n",
       "      <td>...</td>\n",
       "      <td>1</td>\n",
       "      <td>0</td>\n",
       "      <td>1</td>\n",
       "      <td>0</td>\n",
       "      <td>0</td>\n",
       "      <td>0</td>\n",
       "      <td>0</td>\n",
       "      <td>0</td>\n",
       "      <td>1</td>\n",
       "      <td>0</td>\n",
       "    </tr>\n",
       "    <tr>\n",
       "      <th>5</th>\n",
       "      <td>56</td>\n",
       "      <td>0.000000</td>\n",
       "      <td>0</td>\n",
       "      <td>2.0</td>\n",
       "      <td>1</td>\n",
       "      <td>0</td>\n",
       "      <td>0</td>\n",
       "      <td>0</td>\n",
       "      <td>0</td>\n",
       "      <td>0</td>\n",
       "      <td>...</td>\n",
       "      <td>1</td>\n",
       "      <td>1</td>\n",
       "      <td>0</td>\n",
       "      <td>0</td>\n",
       "      <td>0</td>\n",
       "      <td>0</td>\n",
       "      <td>0</td>\n",
       "      <td>0</td>\n",
       "      <td>1</td>\n",
       "      <td>0</td>\n",
       "    </tr>\n",
       "    <tr>\n",
       "      <th>6</th>\n",
       "      <td>32</td>\n",
       "      <td>1.000000</td>\n",
       "      <td>2</td>\n",
       "      <td>3.0</td>\n",
       "      <td>0</td>\n",
       "      <td>0</td>\n",
       "      <td>0</td>\n",
       "      <td>0</td>\n",
       "      <td>0</td>\n",
       "      <td>1</td>\n",
       "      <td>...</td>\n",
       "      <td>0</td>\n",
       "      <td>0</td>\n",
       "      <td>1</td>\n",
       "      <td>0</td>\n",
       "      <td>0</td>\n",
       "      <td>0</td>\n",
       "      <td>0</td>\n",
       "      <td>0</td>\n",
       "      <td>1</td>\n",
       "      <td>0</td>\n",
       "    </tr>\n",
       "    <tr>\n",
       "      <th>7</th>\n",
       "      <td>33</td>\n",
       "      <td>1.000000</td>\n",
       "      <td>2</td>\n",
       "      <td>3.0</td>\n",
       "      <td>0</td>\n",
       "      <td>0</td>\n",
       "      <td>0</td>\n",
       "      <td>0</td>\n",
       "      <td>0</td>\n",
       "      <td>1</td>\n",
       "      <td>...</td>\n",
       "      <td>0</td>\n",
       "      <td>0</td>\n",
       "      <td>1</td>\n",
       "      <td>0</td>\n",
       "      <td>0</td>\n",
       "      <td>0</td>\n",
       "      <td>0</td>\n",
       "      <td>0</td>\n",
       "      <td>1</td>\n",
       "      <td>0</td>\n",
       "    </tr>\n",
       "    <tr>\n",
       "      <th>8</th>\n",
       "      <td>61</td>\n",
       "      <td>0.000000</td>\n",
       "      <td>2</td>\n",
       "      <td>3.0</td>\n",
       "      <td>0</td>\n",
       "      <td>0</td>\n",
       "      <td>1</td>\n",
       "      <td>0</td>\n",
       "      <td>0</td>\n",
       "      <td>0</td>\n",
       "      <td>...</td>\n",
       "      <td>1</td>\n",
       "      <td>0</td>\n",
       "      <td>1</td>\n",
       "      <td>0</td>\n",
       "      <td>0</td>\n",
       "      <td>0</td>\n",
       "      <td>0</td>\n",
       "      <td>0</td>\n",
       "      <td>0</td>\n",
       "      <td>1</td>\n",
       "    </tr>\n",
       "    <tr>\n",
       "      <th>9</th>\n",
       "      <td>55</td>\n",
       "      <td>1.000000</td>\n",
       "      <td>0</td>\n",
       "      <td>4.0</td>\n",
       "      <td>1</td>\n",
       "      <td>0</td>\n",
       "      <td>0</td>\n",
       "      <td>0</td>\n",
       "      <td>0</td>\n",
       "      <td>0</td>\n",
       "      <td>...</td>\n",
       "      <td>1</td>\n",
       "      <td>0</td>\n",
       "      <td>1</td>\n",
       "      <td>0</td>\n",
       "      <td>0</td>\n",
       "      <td>0</td>\n",
       "      <td>0</td>\n",
       "      <td>0</td>\n",
       "      <td>1</td>\n",
       "      <td>0</td>\n",
       "    </tr>\n",
       "  </tbody>\n",
       "</table>\n",
       "<p>10 rows × 25 columns</p>\n",
       "</div>"
      ],
      "text/plain": [
       "   age  work_experience  spending_score  family_size  profession_Artist  \\\n",
       "0   22         1.000000               2          4.0                  0   \n",
       "1   38         2.619777               0          3.0                  0   \n",
       "2   67         1.000000               2          1.0                  0   \n",
       "3   67         0.000000               1          2.0                  0   \n",
       "4   40         2.619777               1          6.0                  0   \n",
       "5   56         0.000000               0          2.0                  1   \n",
       "6   32         1.000000               2          3.0                  0   \n",
       "7   33         1.000000               2          3.0                  0   \n",
       "8   61         0.000000               2          3.0                  0   \n",
       "9   55         1.000000               0          4.0                  1   \n",
       "\n",
       "   profession_Doctor  profession_Engineer  profession_Entertainment  \\\n",
       "0                  0                    0                         0   \n",
       "1                  0                    1                         0   \n",
       "2                  0                    1                         0   \n",
       "3                  0                    0                         0   \n",
       "4                  0                    0                         1   \n",
       "5                  0                    0                         0   \n",
       "6                  0                    0                         0   \n",
       "7                  0                    0                         0   \n",
       "8                  0                    1                         0   \n",
       "9                  0                    0                         0   \n",
       "\n",
       "   profession_Executive  profession_Healthcare  ...  married_Yes  \\\n",
       "0                     0                      1  ...            0   \n",
       "1                     0                      0  ...            1   \n",
       "2                     0                      0  ...            1   \n",
       "3                     0                      0  ...            1   \n",
       "4                     0                      0  ...            1   \n",
       "5                     0                      0  ...            1   \n",
       "6                     0                      1  ...            0   \n",
       "7                     0                      1  ...            0   \n",
       "8                     0                      0  ...            1   \n",
       "9                     0                      0  ...            1   \n",
       "\n",
       "   graduated_No  graduated_Yes  var_1_Cat_1  var_1_Cat_2  var_1_Cat_3  \\\n",
       "0             1              0            0            0            0   \n",
       "1             0              1            0            0            0   \n",
       "2             0              1            0            0            0   \n",
       "3             0              1            0            0            0   \n",
       "4             0              1            0            0            0   \n",
       "5             1              0            0            0            0   \n",
       "6             0              1            0            0            0   \n",
       "7             0              1            0            0            0   \n",
       "8             0              1            0            0            0   \n",
       "9             0              1            0            0            0   \n",
       "\n",
       "   var_1_Cat_4  var_1_Cat_5  var_1_Cat_6  var_1_Cat_7  \n",
       "0            1            0            0            0  \n",
       "1            1            0            0            0  \n",
       "2            0            0            1            0  \n",
       "3            0            0            1            0  \n",
       "4            0            0            1            0  \n",
       "5            0            0            1            0  \n",
       "6            0            0            1            0  \n",
       "7            0            0            1            0  \n",
       "8            0            0            0            1  \n",
       "9            0            0            1            0  \n",
       "\n",
       "[10 rows x 25 columns]"
      ]
     },
     "execution_count": 14,
     "metadata": {},
     "output_type": "execute_result"
    }
   ],
   "source": [
    "# Ordincal feature encoding for features that have ordered values\n",
    "from sklearn.preprocessing import LabelEncoder\n",
    "\n",
    "#label encoder can't handle missing values\n",
    "automobiles['spending_score'] = automobiles['spending_score'].fillna('None')\n",
    "# Label encode ord_1 feature\n",
    "label_encoder = LabelEncoder()\n",
    "automobiles['spending_score'] = label_encoder.fit_transform(automobiles['spending_score'])\n",
    "# Print sample of dataset\n",
    "automobiles.head(10)"
   ]
  },
  {
   "cell_type": "code",
   "execution_count": 15,
   "id": "c037e275",
   "metadata": {},
   "outputs": [
    {
     "data": {
      "text/html": [
       "<div>\n",
       "<style scoped>\n",
       "    .dataframe tbody tr th:only-of-type {\n",
       "        vertical-align: middle;\n",
       "    }\n",
       "\n",
       "    .dataframe tbody tr th {\n",
       "        vertical-align: top;\n",
       "    }\n",
       "\n",
       "    .dataframe thead th {\n",
       "        text-align: right;\n",
       "    }\n",
       "</style>\n",
       "<table border=\"1\" class=\"dataframe\">\n",
       "  <thead>\n",
       "    <tr style=\"text-align: right;\">\n",
       "      <th></th>\n",
       "      <th>age</th>\n",
       "      <th>work_experience</th>\n",
       "      <th>spending_score</th>\n",
       "      <th>family_size</th>\n",
       "      <th>profession_Artist</th>\n",
       "      <th>profession_Doctor</th>\n",
       "      <th>profession_Engineer</th>\n",
       "      <th>profession_Entertainment</th>\n",
       "      <th>profession_Executive</th>\n",
       "      <th>profession_Healthcare</th>\n",
       "      <th>...</th>\n",
       "      <th>married_Yes</th>\n",
       "      <th>graduated_No</th>\n",
       "      <th>graduated_Yes</th>\n",
       "      <th>var_1_Cat_1</th>\n",
       "      <th>var_1_Cat_2</th>\n",
       "      <th>var_1_Cat_3</th>\n",
       "      <th>var_1_Cat_4</th>\n",
       "      <th>var_1_Cat_5</th>\n",
       "      <th>var_1_Cat_6</th>\n",
       "      <th>var_1_Cat_7</th>\n",
       "    </tr>\n",
       "  </thead>\n",
       "  <tbody>\n",
       "    <tr>\n",
       "      <th>0</th>\n",
       "      <td>-1.282499</td>\n",
       "      <td>-0.504312</td>\n",
       "      <td>0.750575</td>\n",
       "      <td>0.768669</td>\n",
       "      <td>-0.670654</td>\n",
       "      <td>-0.308607</td>\n",
       "      <td>-0.309514</td>\n",
       "      <td>-0.363793</td>\n",
       "      <td>-0.279508</td>\n",
       "      <td>2.260847</td>\n",
       "      <td>...</td>\n",
       "      <td>-1.166141</td>\n",
       "      <td>1.287814</td>\n",
       "      <td>-1.262033</td>\n",
       "      <td>-0.125946</td>\n",
       "      <td>-0.235726</td>\n",
       "      <td>-0.3367</td>\n",
       "      <td>2.500169</td>\n",
       "      <td>-0.103798</td>\n",
       "      <td>-1.351158</td>\n",
       "      <td>-0.160627</td>\n",
       "    </tr>\n",
       "    <tr>\n",
       "      <th>1</th>\n",
       "      <td>-0.328606</td>\n",
       "      <td>0.000000</td>\n",
       "      <td>-1.610424</td>\n",
       "      <td>0.103701</td>\n",
       "      <td>-0.670654</td>\n",
       "      <td>-0.308607</td>\n",
       "      <td>3.230867</td>\n",
       "      <td>-0.363793</td>\n",
       "      <td>-0.279508</td>\n",
       "      <td>-0.442312</td>\n",
       "      <td>...</td>\n",
       "      <td>0.857529</td>\n",
       "      <td>-0.776510</td>\n",
       "      <td>0.792372</td>\n",
       "      <td>-0.125946</td>\n",
       "      <td>-0.235726</td>\n",
       "      <td>-0.3367</td>\n",
       "      <td>2.500169</td>\n",
       "      <td>-0.103798</td>\n",
       "      <td>-1.351158</td>\n",
       "      <td>-0.160627</td>\n",
       "    </tr>\n",
       "    <tr>\n",
       "      <th>2</th>\n",
       "      <td>1.400325</td>\n",
       "      <td>-0.504312</td>\n",
       "      <td>0.750575</td>\n",
       "      <td>-1.226237</td>\n",
       "      <td>-0.670654</td>\n",
       "      <td>-0.308607</td>\n",
       "      <td>3.230867</td>\n",
       "      <td>-0.363793</td>\n",
       "      <td>-0.279508</td>\n",
       "      <td>-0.442312</td>\n",
       "      <td>...</td>\n",
       "      <td>0.857529</td>\n",
       "      <td>-0.776510</td>\n",
       "      <td>0.792372</td>\n",
       "      <td>-0.125946</td>\n",
       "      <td>-0.235726</td>\n",
       "      <td>-0.3367</td>\n",
       "      <td>-0.399973</td>\n",
       "      <td>-0.103798</td>\n",
       "      <td>0.740106</td>\n",
       "      <td>-0.160627</td>\n",
       "    </tr>\n",
       "    <tr>\n",
       "      <th>3</th>\n",
       "      <td>1.400325</td>\n",
       "      <td>-0.815659</td>\n",
       "      <td>-0.429925</td>\n",
       "      <td>-0.561268</td>\n",
       "      <td>-0.670654</td>\n",
       "      <td>-0.308607</td>\n",
       "      <td>-0.309514</td>\n",
       "      <td>-0.363793</td>\n",
       "      <td>-0.279508</td>\n",
       "      <td>-0.442312</td>\n",
       "      <td>...</td>\n",
       "      <td>0.857529</td>\n",
       "      <td>-0.776510</td>\n",
       "      <td>0.792372</td>\n",
       "      <td>-0.125946</td>\n",
       "      <td>-0.235726</td>\n",
       "      <td>-0.3367</td>\n",
       "      <td>-0.399973</td>\n",
       "      <td>-0.103798</td>\n",
       "      <td>0.740106</td>\n",
       "      <td>-0.160627</td>\n",
       "    </tr>\n",
       "    <tr>\n",
       "      <th>4</th>\n",
       "      <td>-0.209369</td>\n",
       "      <td>0.000000</td>\n",
       "      <td>-0.429925</td>\n",
       "      <td>2.098607</td>\n",
       "      <td>-0.670654</td>\n",
       "      <td>-0.308607</td>\n",
       "      <td>-0.309514</td>\n",
       "      <td>2.748818</td>\n",
       "      <td>-0.279508</td>\n",
       "      <td>-0.442312</td>\n",
       "      <td>...</td>\n",
       "      <td>0.857529</td>\n",
       "      <td>-0.776510</td>\n",
       "      <td>0.792372</td>\n",
       "      <td>-0.125946</td>\n",
       "      <td>-0.235726</td>\n",
       "      <td>-0.3367</td>\n",
       "      <td>-0.399973</td>\n",
       "      <td>-0.103798</td>\n",
       "      <td>0.740106</td>\n",
       "      <td>-0.160627</td>\n",
       "    </tr>\n",
       "  </tbody>\n",
       "</table>\n",
       "<p>5 rows × 25 columns</p>\n",
       "</div>"
      ],
      "text/plain": [
       "        age  work_experience  spending_score  family_size  profession_Artist  \\\n",
       "0 -1.282499        -0.504312        0.750575     0.768669          -0.670654   \n",
       "1 -0.328606         0.000000       -1.610424     0.103701          -0.670654   \n",
       "2  1.400325        -0.504312        0.750575    -1.226237          -0.670654   \n",
       "3  1.400325        -0.815659       -0.429925    -0.561268          -0.670654   \n",
       "4 -0.209369         0.000000       -0.429925     2.098607          -0.670654   \n",
       "\n",
       "   profession_Doctor  profession_Engineer  profession_Entertainment  \\\n",
       "0          -0.308607            -0.309514                 -0.363793   \n",
       "1          -0.308607             3.230867                 -0.363793   \n",
       "2          -0.308607             3.230867                 -0.363793   \n",
       "3          -0.308607            -0.309514                 -0.363793   \n",
       "4          -0.308607            -0.309514                  2.748818   \n",
       "\n",
       "   profession_Executive  profession_Healthcare  ...  married_Yes  \\\n",
       "0             -0.279508               2.260847  ...    -1.166141   \n",
       "1             -0.279508              -0.442312  ...     0.857529   \n",
       "2             -0.279508              -0.442312  ...     0.857529   \n",
       "3             -0.279508              -0.442312  ...     0.857529   \n",
       "4             -0.279508              -0.442312  ...     0.857529   \n",
       "\n",
       "   graduated_No  graduated_Yes  var_1_Cat_1  var_1_Cat_2  var_1_Cat_3  \\\n",
       "0      1.287814      -1.262033    -0.125946    -0.235726      -0.3367   \n",
       "1     -0.776510       0.792372    -0.125946    -0.235726      -0.3367   \n",
       "2     -0.776510       0.792372    -0.125946    -0.235726      -0.3367   \n",
       "3     -0.776510       0.792372    -0.125946    -0.235726      -0.3367   \n",
       "4     -0.776510       0.792372    -0.125946    -0.235726      -0.3367   \n",
       "\n",
       "   var_1_Cat_4  var_1_Cat_5  var_1_Cat_6  var_1_Cat_7  \n",
       "0     2.500169    -0.103798    -1.351158    -0.160627  \n",
       "1     2.500169    -0.103798    -1.351158    -0.160627  \n",
       "2    -0.399973    -0.103798     0.740106    -0.160627  \n",
       "3    -0.399973    -0.103798     0.740106    -0.160627  \n",
       "4    -0.399973    -0.103798     0.740106    -0.160627  \n",
       "\n",
       "[5 rows x 25 columns]"
      ]
     },
     "execution_count": 15,
     "metadata": {},
     "output_type": "execute_result"
    }
   ],
   "source": [
    "# feature standardization\n",
    "scaler = StandardScaler().fit(automobiles)\n",
    "scaled_features = scaler.transform(automobiles)\n",
    "scaled_features = pd.DataFrame(scaled_features, columns = automobiles.columns)\n",
    "scaled_features.head()"
   ]
  },
  {
   "cell_type": "markdown",
   "id": "a96cbe19",
   "metadata": {},
   "source": [
    "### Make a Plot on the \"Elbow Method\""
   ]
  },
  {
   "cell_type": "code",
   "execution_count": 16,
   "id": "d208b6bd",
   "metadata": {},
   "outputs": [
    {
     "data": {
      "text/plain": [
       "Text(0, 0.5, 'Inertia')"
      ]
     },
     "execution_count": 16,
     "metadata": {},
     "output_type": "execute_result"
    },
    {
     "data": {
      "image/png": "[encoded data removed]",
      "text/plain": [
       "<Figure size 432x288 with 1 Axes>"
      ]
     },
     "metadata": {
      "needs_background": "light"
     },
     "output_type": "display_data"
    }
   ],
   "source": [
    "# store the squared sum of distances from the mean of each cluster to the data points to that mean\n",
    "sse = []\n",
    "\n",
    "for cluster in range(1,10):\n",
    "    kmeans = KMeans(n_clusters = cluster, init='k-means++')\n",
    "    kmeans.fit(automobiles)\n",
    "    sse.append(kmeans.inertia_)\n",
    "\n",
    "# converting the results into a dataframe and plotting them\n",
    "clustering = pd.DataFrame({'Cluster':range(1,10), 'SSE':sse})\n",
    "#plt.figure(figsize=(12,6))\n",
    "plt.plot(clustering['Cluster'], clustering['SSE'], marker='o')\n",
    "plt.xlabel('Number of clusters')\n",
    "plt.ylabel('Inertia')"
   ]
  },
  {
   "cell_type": "code",
   "execution_count": 17,
   "id": "6a57a979",
   "metadata": {},
   "outputs": [
    {
     "name": "stdout",
     "output_type": "stream",
     "text": [
      "0.42861278447347173\n"
     ]
    }
   ],
   "source": [
    "# based on the elbow method, the best number of clusters to set would be 4, \n",
    "# since after K=4, the inertia decreases in a linear manner.\n",
    "\n",
    "# Build a model with 4 clusters\n",
    "kmeans = KMeans(n_clusters=4, init='k-means++')\n",
    "kmeans.fit(automobiles)\n",
    "\n",
    "# Print the silhouette score for the model above\n",
    "print(silhouette_score(automobiles, kmeans.labels_, metric='euclidean'))"
   ]
  },
  {
   "cell_type": "markdown",
   "id": "56169c9d",
   "metadata": {},
   "source": [
    "### Try Improve the Quality of Clusters by Selecting Useful Features"
   ]
  },
  {
   "cell_type": "code",
   "execution_count": 18,
   "id": "2846b758",
   "metadata": {},
   "outputs": [
    {
     "data": {
      "image/png": "[encoded data removed]",
      "text/plain": [
       "<Figure size 432x288 with 1 Axes>"
      ]
     },
     "metadata": {
      "needs_background": "light"
     },
     "output_type": "display_data"
    }
   ],
   "source": [
    "# attempt to improve the model using PCA to reduce dimensionality.\n",
    "pca = PCA(n_components=5)\n",
    "pca_fit = pca.fit_transform(automobiles)\n",
    "n_comp = range(pca.n_components_)\n",
    "plt.bar(n_comp, pca.explained_variance_ratio_, color='blue')\n",
    "plt.xlabel('PCA features')\n",
    "plt.ylabel('variance %')\n",
    "\n",
    "pca_components = pd.DataFrame(pca_fit)"
   ]
  },
  {
   "cell_type": "code",
   "execution_count": 19,
   "id": "47130951",
   "metadata": {},
   "outputs": [
    {
     "data": {
      "text/html": [
       "<div>\n",
       "<style scoped>\n",
       "    .dataframe tbody tr th:only-of-type {\n",
       "        vertical-align: middle;\n",
       "    }\n",
       "\n",
       "    .dataframe tbody tr th {\n",
       "        vertical-align: top;\n",
       "    }\n",
       "\n",
       "    .dataframe thead th {\n",
       "        text-align: right;\n",
       "    }\n",
       "</style>\n",
       "<table border=\"1\" class=\"dataframe\">\n",
       "  <thead>\n",
       "    <tr style=\"text-align: right;\">\n",
       "      <th></th>\n",
       "      <th>0</th>\n",
       "      <th>1</th>\n",
       "      <th>2</th>\n",
       "      <th>3</th>\n",
       "      <th>4</th>\n",
       "    </tr>\n",
       "  </thead>\n",
       "  <tbody>\n",
       "    <tr>\n",
       "      <th>0</th>\n",
       "      <td>-21.502903</td>\n",
       "      <td>-2.450373</td>\n",
       "      <td>0.521449</td>\n",
       "      <td>0.782306</td>\n",
       "      <td>-0.633519</td>\n",
       "    </tr>\n",
       "    <tr>\n",
       "      <th>1</th>\n",
       "      <td>-5.476260</td>\n",
       "      <td>-0.192459</td>\n",
       "      <td>0.297044</td>\n",
       "      <td>-1.566620</td>\n",
       "      <td>-0.290469</td>\n",
       "    </tr>\n",
       "    <tr>\n",
       "      <th>2</th>\n",
       "      <td>23.568221</td>\n",
       "      <td>-0.689226</td>\n",
       "      <td>-1.477698</td>\n",
       "      <td>0.566654</td>\n",
       "      <td>0.225764</td>\n",
       "    </tr>\n",
       "    <tr>\n",
       "      <th>3</th>\n",
       "      <td>23.602871</td>\n",
       "      <td>-1.765042</td>\n",
       "      <td>-0.394367</td>\n",
       "      <td>-0.085947</td>\n",
       "      <td>0.124108</td>\n",
       "    </tr>\n",
       "    <tr>\n",
       "      <th>4</th>\n",
       "      <td>-3.558898</td>\n",
       "      <td>-0.310606</td>\n",
       "      <td>2.998802</td>\n",
       "      <td>-0.374295</td>\n",
       "      <td>0.823571</td>\n",
       "    </tr>\n",
       "  </tbody>\n",
       "</table>\n",
       "</div>"
      ],
      "text/plain": [
       "           0         1         2         3         4\n",
       "0 -21.502903 -2.450373  0.521449  0.782306 -0.633519\n",
       "1  -5.476260 -0.192459  0.297044 -1.566620 -0.290469\n",
       "2  23.568221 -0.689226 -1.477698  0.566654  0.225764\n",
       "3  23.602871 -1.765042 -0.394367 -0.085947  0.124108\n",
       "4  -3.558898 -0.310606  2.998802 -0.374295  0.823571"
      ]
     },
     "execution_count": 19,
     "metadata": {},
     "output_type": "execute_result"
    }
   ],
   "source": [
    "pca_components.head()"
   ]
  },
  {
   "cell_type": "code",
   "execution_count": 20,
   "id": "5c6b9bc7",
   "metadata": {},
   "outputs": [
    {
     "data": {
      "text/plain": [
       "Text(0, 0.5, 'Inertia')"
      ]
     },
     "execution_count": 20,
     "metadata": {},
     "output_type": "execute_result"
    },
    {
     "data": {
      "image/png": "[encoded data removed]",
      "text/plain": [
       "<Figure size 432x288 with 1 Axes>"
      ]
     },
     "metadata": {
      "needs_background": "light"
     },
     "output_type": "display_data"
    }
   ],
   "source": [
    "# building a new model after PCA.\n",
    "\n",
    "inertia = []\n",
    "\n",
    "for cluster in range(1,10):\n",
    "    kmeans = KMeans(n_clusters = cluster)\n",
    "    kmeans.fit(pca_components.iloc[:,:2])\n",
    "    inertia.append(kmeans.inertia_)\n",
    "\n",
    "# converting the results into a dataframe and plotting them\n",
    "clusters = pd.DataFrame({'Cluster':range(1,10), 'Inertia':inertia})\n",
    "# plt.figure(figsize=(12,6))\n",
    "plt.plot(clusters['Cluster'], clusters['Inertia'], marker='o')\n",
    "plt.xlabel('Number of clusters')\n",
    "plt.ylabel('Inertia')"
   ]
  },
  {
   "cell_type": "code",
   "execution_count": 21,
   "id": "fa173cb0",
   "metadata": {},
   "outputs": [
    {
     "name": "stdout",
     "output_type": "stream",
     "text": [
      "0.47313464575183084\n"
     ]
    }
   ],
   "source": [
    "# still, K=4 seems like the best approach.\n",
    "kmeans_new = KMeans(n_clusters=4)\n",
    "kmeans_new.fit(pca_components.iloc[:,:2])\n",
    "\n",
    "# silhouette score\n",
    "print(silhouette_score(pca_components.iloc[:,:2], kmeans_new.labels_, metric='euclidean'))"
   ]
  },
  {
   "cell_type": "markdown",
   "id": "02f3662c",
   "metadata": {},
   "source": [
    "We see roughly 4.5% increase in the Silhouette score!"
   ]
  },
  {
   "cell_type": "code",
   "execution_count": 22,
   "id": "9bf30673",
   "metadata": {},
   "outputs": [
    {
     "data": {
      "image/png": "[encoded data removed]",
      "text/plain": [
       "<Figure size 1512x720 with 1 Axes>"
      ]
     },
     "metadata": {
      "needs_background": "light"
     },
     "output_type": "display_data"
    }
   ],
   "source": [
    "model = KMeans(n_clusters=4)\n",
    "\n",
    "clusters = model.fit_predict(pca_components.iloc[:,:2])\n",
    "automobiles[\"label\"] = clusters\n",
    " \n",
    "fig = plt.figure(figsize=(21,10))\n",
    "ax = fig.add_subplot(111, projection='3d')\n",
    "ax.scatter(automobiles.age[automobiles.label == 0], automobiles[\"work_experience\"][automobiles.label == 0], automobiles[\"spending_score\"][automobiles.label == 0], c='blue', s=60)\n",
    "ax.scatter(automobiles.age[automobiles.label == 1], automobiles[\"work_experience\"][automobiles.label == 1], automobiles[\"spending_score\"][automobiles.label == 1], c='red', s=60)\n",
    "ax.scatter(automobiles.age[automobiles.label == 2], automobiles[\"work_experience\"][automobiles.label == 2], automobiles[\"spending_score\"][automobiles.label == 2], c='green', s=60)\n",
    "ax.scatter(automobiles.age[automobiles.label == 3], automobiles[\"work_experience\"][automobiles.label == 3], automobiles[\"spending_score\"][automobiles.label == 3], c='orange', s=60)\n",
    "\n",
    "ax.view_init(30, 40)\n",
    "plt.show()"
   ]
  },
  {
   "cell_type": "code",
   "execution_count": 23,
   "id": "86bcde1f",
   "metadata": {},
   "outputs": [
    {
     "data": {
      "text/plain": [
       "Index(['age', 'work_experience', 'spending_score', 'family_size',\n",
       "       'profession_Artist', 'profession_Doctor', 'profession_Engineer',\n",
       "       'profession_Entertainment', 'profession_Executive',\n",
       "       'profession_Healthcare', 'profession_Homemaker', 'profession_Lawyer',\n",
       "       'profession_Marketing', 'gender_Female', 'married_No', 'married_Yes',\n",
       "       'graduated_No', 'graduated_Yes', 'var_1_Cat_1', 'var_1_Cat_2',\n",
       "       'var_1_Cat_3', 'var_1_Cat_4', 'var_1_Cat_5', 'var_1_Cat_6',\n",
       "       'var_1_Cat_7', 'label'],\n",
       "      dtype='object')"
      ]
     },
     "execution_count": 23,
     "metadata": {},
     "output_type": "execute_result"
    }
   ],
   "source": [
    "automobiles.columns"
   ]
  },
  {
   "cell_type": "markdown",
   "id": "8d92e940",
   "metadata": {},
   "source": [
    "As you can see, the clusters look like they can be separated quite easily, except a few spots where different colors overlap a bit. As far as the results go, I'm satisfied with the clusters!"
   ]
  },
  {
   "cell_type": "markdown",
   "id": "178490d5",
   "metadata": {},
   "source": [
    "### Take a Look at the Demographics"
   ]
  },
  {
   "cell_type": "code",
   "execution_count": 24,
   "id": "3ac49291",
   "metadata": {},
   "outputs": [
    {
     "data": {
      "text/plain": [
       "[Text(0.5, 1.0, 'Cluster vs Age')]"
      ]
     },
     "execution_count": 24,
     "metadata": {},
     "output_type": "execute_result"
    },
    {
     "data": {
      "image/png": "[encoded data removed]",
      "text/plain": [
       "<Figure size 432x288 with 1 Axes>"
      ]
     },
     "metadata": {
      "needs_background": "light"
     },
     "output_type": "display_data"
    }
   ],
   "source": [
    "sns.barplot(x='label', y='age', data=automobiles).set(title='Cluster vs Age')"
   ]
  },
  {
   "cell_type": "code",
   "execution_count": 25,
   "id": "b01b9a03",
   "metadata": {},
   "outputs": [
    {
     "data": {
      "text/plain": [
       "[Text(0.5, 1.0, 'Cluster vs Family Size')]"
      ]
     },
     "execution_count": 25,
     "metadata": {},
     "output_type": "execute_result"
    },
    {
     "data": {
      "image/png": "[encoded data removed]",
      "text/plain": [
       "<Figure size 432x288 with 1 Axes>"
      ]
     },
     "metadata": {
      "needs_background": "light"
     },
     "output_type": "display_data"
    }
   ],
   "source": [
    "sns.barplot(x='label', y='family_size', data=automobiles).set(title='Cluster vs Family Size')"
   ]
  },
  {
   "cell_type": "code",
   "execution_count": 26,
   "id": "f9baf594",
   "metadata": {},
   "outputs": [
    {
     "data": {
      "text/plain": [
       "[Text(0.5, 1.0, 'Cluster vs Spending Score')]"
      ]
     },
     "execution_count": 26,
     "metadata": {},
     "output_type": "execute_result"
    },
    {
     "data": {
      "image/png": "[encoded data removed]",
      "text/plain": [
       "<Figure size 432x288 with 1 Axes>"
      ]
     },
     "metadata": {
      "needs_background": "light"
     },
     "output_type": "display_data"
    }
   ],
   "source": [
    "sns.barplot(x='label', y='spending_score', data=automobiles).set(title='Cluster vs Spending Score')"
   ]
  },
  {
   "cell_type": "code",
   "execution_count": 27,
   "id": "47527661",
   "metadata": {},
   "outputs": [
    {
     "data": {
      "text/plain": [
       "[Text(0.5, 1.0, 'Cluster vs Work Experience')]"
      ]
     },
     "execution_count": 27,
     "metadata": {},
     "output_type": "execute_result"
    },
    {
     "data": {
      "image/png": "[encoded data removed]",
      "text/plain": [
       "<Figure size 432x288 with 1 Axes>"
      ]
     },
     "metadata": {
      "needs_background": "light"
     },
     "output_type": "display_data"
    }
   ],
   "source": [
    "sns.barplot(x='label', y='work_experience', data=automobiles).set(title='Cluster vs Work Experience')"
   ]
  },
  {
   "cell_type": "markdown",
   "id": "304ea6f5",
   "metadata": {},
   "source": [
    "### Now take a look at the count of each cluster"
   ]
  },
  {
   "cell_type": "code",
   "execution_count": 28,
   "id": "584d385e",
   "metadata": {},
   "outputs": [
    {
     "data": {
      "text/html": [
       "<div>\n",
       "<style scoped>\n",
       "    .dataframe tbody tr th:only-of-type {\n",
       "        vertical-align: middle;\n",
       "    }\n",
       "\n",
       "    .dataframe tbody tr th {\n",
       "        vertical-align: top;\n",
       "    }\n",
       "\n",
       "    .dataframe thead th {\n",
       "        text-align: right;\n",
       "    }\n",
       "</style>\n",
       "<table border=\"1\" class=\"dataframe\">\n",
       "  <thead>\n",
       "    <tr style=\"text-align: right;\">\n",
       "      <th></th>\n",
       "      <th>gender</th>\n",
       "      <th>married</th>\n",
       "      <th>age</th>\n",
       "      <th>graduated</th>\n",
       "      <th>profession</th>\n",
       "      <th>work_experience</th>\n",
       "      <th>spending_score</th>\n",
       "      <th>family_size</th>\n",
       "      <th>var_1</th>\n",
       "      <th>cluster</th>\n",
       "    </tr>\n",
       "  </thead>\n",
       "  <tbody>\n",
       "    <tr>\n",
       "      <th>0</th>\n",
       "      <td>Male</td>\n",
       "      <td>No</td>\n",
       "      <td>22</td>\n",
       "      <td>No</td>\n",
       "      <td>Healthcare</td>\n",
       "      <td>1.000000</td>\n",
       "      <td>Low</td>\n",
       "      <td>4.0</td>\n",
       "      <td>Cat_4</td>\n",
       "      <td>0</td>\n",
       "    </tr>\n",
       "    <tr>\n",
       "      <th>1</th>\n",
       "      <td>Female</td>\n",
       "      <td>Yes</td>\n",
       "      <td>38</td>\n",
       "      <td>Yes</td>\n",
       "      <td>Engineer</td>\n",
       "      <td>2.619777</td>\n",
       "      <td>Average</td>\n",
       "      <td>3.0</td>\n",
       "      <td>Cat_4</td>\n",
       "      <td>3</td>\n",
       "    </tr>\n",
       "    <tr>\n",
       "      <th>2</th>\n",
       "      <td>Female</td>\n",
       "      <td>Yes</td>\n",
       "      <td>67</td>\n",
       "      <td>Yes</td>\n",
       "      <td>Engineer</td>\n",
       "      <td>1.000000</td>\n",
       "      <td>Low</td>\n",
       "      <td>1.0</td>\n",
       "      <td>Cat_6</td>\n",
       "      <td>2</td>\n",
       "    </tr>\n",
       "    <tr>\n",
       "      <th>3</th>\n",
       "      <td>Male</td>\n",
       "      <td>Yes</td>\n",
       "      <td>67</td>\n",
       "      <td>Yes</td>\n",
       "      <td>Lawyer</td>\n",
       "      <td>0.000000</td>\n",
       "      <td>High</td>\n",
       "      <td>2.0</td>\n",
       "      <td>Cat_6</td>\n",
       "      <td>2</td>\n",
       "    </tr>\n",
       "    <tr>\n",
       "      <th>4</th>\n",
       "      <td>Female</td>\n",
       "      <td>Yes</td>\n",
       "      <td>40</td>\n",
       "      <td>Yes</td>\n",
       "      <td>Entertainment</td>\n",
       "      <td>2.619777</td>\n",
       "      <td>High</td>\n",
       "      <td>6.0</td>\n",
       "      <td>Cat_6</td>\n",
       "      <td>3</td>\n",
       "    </tr>\n",
       "  </tbody>\n",
       "</table>\n",
       "</div>"
      ],
      "text/plain": [
       "   gender married  age graduated     profession  work_experience  \\\n",
       "0    Male      No   22        No     Healthcare         1.000000   \n",
       "1  Female     Yes   38       Yes       Engineer         2.619777   \n",
       "2  Female     Yes   67       Yes       Engineer         1.000000   \n",
       "3    Male     Yes   67       Yes         Lawyer         0.000000   \n",
       "4  Female     Yes   40       Yes  Entertainment         2.619777   \n",
       "\n",
       "  spending_score  family_size  var_1  cluster  \n",
       "0            Low          4.0  Cat_4        0  \n",
       "1        Average          3.0  Cat_4        3  \n",
       "2            Low          1.0  Cat_6        2  \n",
       "3           High          2.0  Cat_6        2  \n",
       "4           High          6.0  Cat_6        3  "
      ]
     },
     "execution_count": 28,
     "metadata": {},
     "output_type": "execute_result"
    }
   ],
   "source": [
    "automobile = automobile.fillna('Unknown')\n",
    "automobile[\"cluster\"] = clusters\n",
    "automobile.head()"
   ]
  },
  {
   "cell_type": "code",
   "execution_count": 29,
   "id": "ede40994",
   "metadata": {},
   "outputs": [
    {
     "data": {
      "text/plain": [
       "<seaborn.axisgrid.FacetGrid at 0x7ffb588fad30>"
      ]
     },
     "execution_count": 29,
     "metadata": {},
     "output_type": "execute_result"
    },
    {
     "data": {
      "image/png": "[encoded data removed]",
      "text/plain": [
       "<Figure size 360x360 with 1 Axes>"
      ]
     },
     "metadata": {
      "needs_background": "light"
     },
     "output_type": "display_data"
    }
   ],
   "source": [
    "sns.catplot(x=\"cluster\", kind=\"count\", data=automobile)"
   ]
  },
  {
   "cell_type": "markdown",
   "id": "0368cb42",
   "metadata": {},
   "source": [
    "The above barplots show the following insights:\n",
    "1. Cluster 1: The averge or typical customer in this cluster is middle-aged (around 40) with an average family size of 2.5 and a moderate ~ moderately high spending score. This customer group has the longest years of work_experience on average. This is the largest customer group. My recommendation to this company is to focus on utility —— advertise versatile models that cater to a variety of driving consitions and preferences to maximize the reach to the largest pool of potential buyers.\n",
    "\n",
    "2. Cluster 2: The typical customer in this cluster is a senior (over 70) with an average family size of 2 and a moderate ~ moderately high spending score. This is the smallest group and its members should be mostly retired.\n",
    "\n",
    "3. Cluster 3: The typical customer is a slightly older middle-aged person with an average family size of 2.8 and the lowest spending score out of all groups with a less than 1.0 average. This group won't be able to afford expensive vehicles, probably because it has more family members to spend money on or this group as a whole do not spend beyond their needs. The company's strategy should be to advertise less expensive, mid-to-low tier vehicles.\n",
    "\n",
    "4. Cluster 4: The typical customer is a young adult aged around 25 who has the highest spending score of all groups and the largest average family size! This is surprising because we normally assume older customers to have more spending power and larger family size, but for this automobile company, this is simply not the case. This cluster is likely a group of young working professionals with high pay and/or heritage. The company should promote the most top-of-the-line car models to this group as their primary target consumer base because this group is most likely able to afford more expensive cars."
   ]
  },
  {
   "cell_type": "code",
   "execution_count": 30,
   "id": "f1dbe20f",
   "metadata": {},
   "outputs": [
    {
     "data": {
      "text/plain": [
       "Index(['age', 'work_experience', 'spending_score', 'family_size',\n",
       "       'profession_Artist', 'profession_Doctor', 'profession_Engineer',\n",
       "       'profession_Entertainment', 'profession_Executive',\n",
       "       'profession_Healthcare', 'profession_Homemaker', 'profession_Lawyer',\n",
       "       'profession_Marketing', 'gender_Female', 'married_No', 'married_Yes',\n",
       "       'graduated_No', 'graduated_Yes', 'var_1_Cat_1', 'var_1_Cat_2',\n",
       "       'var_1_Cat_3', 'var_1_Cat_4', 'var_1_Cat_5', 'var_1_Cat_6',\n",
       "       'var_1_Cat_7', 'label'],\n",
       "      dtype='object')"
      ]
     },
     "execution_count": 30,
     "metadata": {},
     "output_type": "execute_result"
    }
   ],
   "source": [
    "automobiles.columns"
   ]
  },
  {
   "cell_type": "code",
   "execution_count": 31,
   "id": "d1561cf3",
   "metadata": {},
   "outputs": [
    {
     "data": {
      "text/plain": [
       "label\n",
       "0    0.357340\n",
       "1    0.771875\n",
       "2    0.616933\n",
       "3    0.740017\n",
       "Name: graduated_Yes, dtype: float64"
      ]
     },
     "execution_count": 31,
     "metadata": {},
     "output_type": "execute_result"
    }
   ],
   "source": [
    "automobiles.groupby(\"label\")[\"graduated_Yes\"].mean()"
   ]
  },
  {
   "cell_type": "code",
   "execution_count": 32,
   "id": "6703fd73",
   "metadata": {},
   "outputs": [
    {
     "data": {
      "text/plain": [
       "<seaborn.axisgrid.FacetGrid at 0x7ffb68ae3550>"
      ]
     },
     "execution_count": 32,
     "metadata": {},
     "output_type": "execute_result"
    },
    {
     "data": {
      "text/plain": [
       "<Figure size 1440x360 with 0 Axes>"
      ]
     },
     "metadata": {},
     "output_type": "display_data"
    },
    {
     "data": {
      "image/png": "[encoded data removed]",
      "text/plain": [
       "<Figure size 1122.38x360 with 1 Axes>"
      ]
     },
     "metadata": {
      "needs_background": "light"
     },
     "output_type": "display_data"
    }
   ],
   "source": [
    "plt.figure(figsize=(20,5))\n",
    "sns.catplot(x=\"profession\", kind=\"count\", hue='cluster', data=automobile, palette=\"ch:.25\",\n",
    "            height=5, aspect=3)"
   ]
  },
  {
   "cell_type": "markdown",
   "id": "906908e5",
   "metadata": {},
   "source": [
    "We can see the following trends:\n",
    "1. Artists, entertainment workers, and engineers are most represented in the 1st cluster.\n",
    "2. Lawyers, artists, and executives are most represented in the 2nd cluster.\n",
    "3. Artists, entertainment workers, and executives are most represented in the 3rd cluster.\n",
    "4. Healthcare professionals, doctors, and artists are most represented in the 4th cluster."
   ]
  },
  {
   "cell_type": "code",
   "execution_count": 33,
   "id": "af83b2be",
   "metadata": {},
   "outputs": [
    {
     "data": {
      "text/plain": [
       "<seaborn.axisgrid.FacetGrid at 0x7ffb8b9f3490>"
      ]
     },
     "execution_count": 33,
     "metadata": {},
     "output_type": "execute_result"
    },
    {
     "data": {
      "image/png": "[encoded data removed]",
      "text/plain": [
       "<Figure size 618.375x288 with 1 Axes>"
      ]
     },
     "metadata": {
      "needs_background": "light"
     },
     "output_type": "display_data"
    }
   ],
   "source": [
    "sns.catplot(x=\"married\", y=\"age\", kind=\"bar\", hue='cluster', data=automobile, palette=\"ch:.25\",\n",
    "            height=4, aspect=2)"
   ]
  },
  {
   "cell_type": "code",
   "execution_count": 34,
   "id": "5bd4ed95",
   "metadata": {},
   "outputs": [
    {
     "data": {
      "text/plain": [
       "<seaborn.axisgrid.FacetGrid at 0x7ffb79c89370>"
      ]
     },
     "execution_count": 34,
     "metadata": {},
     "output_type": "execute_result"
    },
    {
     "data": {
      "image/png": "[encoded data removed]",
      "text/plain": [
       "<Figure size 618.375x288 with 1 Axes>"
      ]
     },
     "metadata": {
      "needs_background": "light"
     },
     "output_type": "display_data"
    }
   ],
   "source": [
    "sns.catplot(x=\"married\", kind=\"count\", hue='cluster', data=automobile, palette=\"ch:.25\",\n",
    "            height=4, aspect=2)"
   ]
  },
  {
   "cell_type": "markdown",
   "id": "7d8aa1d2",
   "metadata": {},
   "source": [
    "For all clusters except cluster 3 (actually the cluster 4 because python starts counting from 0), there are more married people than unmarried. The last cluster (represented by black) is the young professional group. It's understandable that most of them are unmarried."
   ]
  },
  {
   "cell_type": "code",
   "execution_count": 35,
   "id": "ece00191",
   "metadata": {},
   "outputs": [
    {
     "data": {
      "text/plain": [
       "<seaborn.axisgrid.FacetGrid at 0x7ffb79c89340>"
      ]
     },
     "execution_count": 35,
     "metadata": {},
     "output_type": "execute_result"
    },
    {
     "data": {
      "image/png": "[encoded data removed]",
      "text/plain": [
       "<Figure size 762.375x360 with 2 Axes>"
      ]
     },
     "metadata": {
      "needs_background": "light"
     },
     "output_type": "display_data"
    }
   ],
   "source": [
    "sns.catplot(x=\"married\", y=\"age\", col=\"gender\", kind=\"bar\", hue='cluster', data=automobile, palette=\"ch:.25\")"
   ]
  },
  {
   "cell_type": "markdown",
   "id": "6fde0aff",
   "metadata": {},
   "source": [
    "The charts show that the age for each cluster for unmarried and married people is roughly equivalent. Age for female customers in each cluster is lower than the male counterparts."
   ]
  },
  {
   "cell_type": "code",
   "execution_count": 36,
   "id": "f3d3e7e8",
   "metadata": {},
   "outputs": [
    {
     "data": {
      "text/plain": [
       "Male      5841\n",
       "Female    4854\n",
       "Name: gender, dtype: int64"
      ]
     },
     "execution_count": 36,
     "metadata": {},
     "output_type": "execute_result"
    }
   ],
   "source": [
    "automobile[\"gender\"].value_counts()"
   ]
  },
  {
   "cell_type": "code",
   "execution_count": 37,
   "id": "4030cfbb",
   "metadata": {},
   "outputs": [
    {
     "name": "stdout",
     "output_type": "stream",
     "text": [
      "Male to Female Ratio is: 1.2033374536464772\n"
     ]
    }
   ],
   "source": [
    "print(f\"Male to Female Ratio is: {5841/4854}\")"
   ]
  },
  {
   "cell_type": "markdown",
   "id": "2f595081",
   "metadata": {},
   "source": [
    "### This is the end of the analysis!"
   ]
  }
 ],
 "metadata": {
  "kernelspec": {
   "display_name": "Python 3 (ipykernel)",
   "language": "python",
   "name": "python3"
  },
  "language_info": {
   "codemirror_mode": {
    "name": "ipython",
    "version": 3
   },
   "file_extension": ".py",
   "mimetype": "text/x-python",
   "name": "python",
   "nbconvert_exporter": "python",
   "pygments_lexer": "ipython3",
   "version": "3.8.8"
  }
 },
 "nbformat": 4,
 "nbformat_minor": 5
}
